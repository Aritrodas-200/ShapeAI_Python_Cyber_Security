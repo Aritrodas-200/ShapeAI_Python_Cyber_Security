{
  "nbformat": 4,
  "nbformat_minor": 0,
  "metadata": {
    "colab": {
      "name": "Aritro_Das.ipynb",
      "provenance": [],
      "collapsed_sections": []
    },
    "kernelspec": {
      "name": "python3",
      "display_name": "Python 3"
    },
    "language_info": {
      "name": "python"
    }
  },
  "cells": [
    {
      "cell_type": "code",
      "metadata": {
        "id": "3O38zp1Nbxmr"
      },
      "source": [
        "import os\n",
        "import requests\n",
        "from datetime import datetime\n",
        "save_path = (\"C:/example/\")\n",
        "api_key = '696738d539cb2f3f65f887930c91b8d6'\n",
        "location = input(\"Enter the city name: \")\n",
        "complete_api_link = \"https://api.openweathermap.org/data/2.5/weather?q=\"+location+\"&appid=\"+api_key\n",
        "api_link = requests.get(complete_api_link)\n",
        "api_data = api_link.json()\n",
        "temp_city = ((api_data['main']['temp']) - 273.15)\n",
        "weather_desc = api_data['weather'][0]['description']\n",
        "hmdt = api_data['main']['humidity']\n",
        "wind_spd = api_data['wind']['speed']\n",
        "date_time = datetime.now().strftime(\"%d %b %y | %I:%M:%S %p\")\n",
        "print(\"-------------------------------------------------------------\")\n",
        "print(\"Weather Stats for - {}  || {}\".format(location.upper(), date_time))\n",
        "print(\"-------------------------------------------------------------\")\n",
        "print(\"Current temperature is: {:.2f} deg C\".format(temp_city))\n",
        "print(\"Current weather desc  :\",weather_desc)\n",
        "print(\"Current humidity      :\",hmdt, '%')\n",
        "print(\"Current wind speed    :\",wind_spd,'kmph')\n",
        "Weather_Report = \"Location is {} , Date and time is {} , Temperature of the city is {} , Current weather description is {} ,humidity is {} %, Wind speed is {}\".format(location.upper(),date_time,temp_city,weather_desc,hmdt,wind_spd)\n",
        "file = open(\"current_weather_report.txt\",\"w\")\n",
        "file.write(Weather_Report)\n",
        "file.close()\n"
      ],
      "execution_count": null,
      "outputs": []
    }
  ]
}